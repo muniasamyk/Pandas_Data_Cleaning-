{
 "cells": [
  {
   "cell_type": "markdown",
   "id": "34ebe703",
   "metadata": {},
   "source": [
    "# pandas study_material"
   ]
  },
  {
   "cell_type": "markdown",
   "id": "2a4cc7e8",
   "metadata": {},
   "source": [
    "Introduction to pandas"
   ]
  },
  {
   "cell_type": "markdown",
   "id": "11609876",
   "metadata": {},
   "source": [
    " 1) Pandas is a python library it used to work with large amouont of datas.                                           \n",
    " 2) it has function for data cleaning, data analysis, data exploring and data manipulating"
   ]
  },
  {
   "cell_type": "markdown",
   "id": "34d90f25",
   "metadata": {},
   "source": [
    "Series"
   ]
  },
  {
   "cell_type": "markdown",
   "id": "76f680bc",
   "metadata": {},
   "source": [
    " 1) In pandas series is a one of the data type in pandas and numpy. pandas series is like a column of the table, \n",
    " and it can have access in a index of series or dataframe.\n"
   ]
  },
  {
   "cell_type": "code",
   "execution_count": 2,
   "id": "e85c7b51",
   "metadata": {},
   "outputs": [],
   "source": [
    "import pandas as pd"
   ]
  },
  {
   "cell_type": "code",
   "execution_count": 44,
   "id": "a4fe77ac",
   "metadata": {},
   "outputs": [
    {
     "name": "stdout",
     "output_type": "stream",
     "text": [
      "0    1\n",
      "1    2\n",
      "2    3\n",
      "3    4\n",
      "4    5\n",
      "dtype: int64\n"
     ]
    }
   ],
   "source": [
    "data = pd.Series([1,2,3,4,5])\n",
    "print(data)"
   ]
  },
  {
   "cell_type": "code",
   "execution_count": 45,
   "id": "0085c8ee",
   "metadata": {},
   "outputs": [
    {
     "data": {
      "text/plain": [
       "count    5.000000\n",
       "mean     3.000000\n",
       "std      1.581139\n",
       "min      1.000000\n",
       "25%      2.000000\n",
       "50%      3.000000\n",
       "75%      4.000000\n",
       "max      5.000000\n",
       "dtype: float64"
      ]
     },
     "execution_count": 45,
     "metadata": {},
     "output_type": "execute_result"
    }
   ],
   "source": [
    "data.describe()"
   ]
  },
  {
   "cell_type": "code",
   "execution_count": null,
   "id": "cb17eb09",
   "metadata": {},
   "outputs": [],
   "source": [
    "# access the describe"
   ]
  },
  {
   "cell_type": "code",
   "execution_count": 51,
   "id": "076a1d5e",
   "metadata": {},
   "outputs": [
    {
     "name": "stdout",
     "output_type": "stream",
     "text": [
      "max    5.000000\n",
      "min    1.000000\n",
      "std    1.581139\n",
      "dtype: float64\n"
     ]
    }
   ],
   "source": [
    "print(data.agg([\"max\",\"min\",\"std\"]))"
   ]
  },
  {
   "cell_type": "code",
   "execution_count": null,
   "id": "6e1f431f",
   "metadata": {},
   "outputs": [],
   "source": [
    "# slicing"
   ]
  },
  {
   "cell_type": "code",
   "execution_count": 52,
   "id": "05ddbbe0",
   "metadata": {},
   "outputs": [
    {
     "name": "stdout",
     "output_type": "stream",
     "text": [
      "2\n",
      "1    2\n",
      "2    3\n",
      "dtype: int64\n",
      "1    2\n",
      "dtype: int64\n"
     ]
    }
   ],
   "source": [
    "print(data[1])\n",
    "print(data[1:3])\n",
    "print(data[1:3:2])"
   ]
  },
  {
   "cell_type": "code",
   "execution_count": 3,
   "id": "8fd7c44b",
   "metadata": {},
   "outputs": [],
   "source": [
    "# create a data types in pandas and numpy\n",
    "List,Dictionary, numpy array and labels"
   ]
  },
  {
   "cell_type": "code",
   "execution_count": 8,
   "id": "cf6c68b0",
   "metadata": {},
   "outputs": [],
   "source": [
    "labels = [\"A\",\"B\",\"C\",\"D\",\"E\"]\n",
    "series_list = [1,2,3,4,5,6,7]\n",
    "dictionary = {\"aa\":11,\"bb\":22,\"cc\":33,\"dd\":44}\n",
    "array = np.array([10,20,30,40,50])"
   ]
  },
  {
   "cell_type": "code",
   "execution_count": 16,
   "id": "f92e63e6",
   "metadata": {},
   "outputs": [
    {
     "data": {
      "text/plain": [
       "0    1\n",
       "1    2\n",
       "2    3\n",
       "3    4\n",
       "4    5\n",
       "5    6\n",
       "6    7\n",
       "dtype: int64"
      ]
     },
     "execution_count": 16,
     "metadata": {},
     "output_type": "execute_result"
    }
   ],
   "source": [
    "pd.Series(series_list)"
   ]
  },
  {
   "cell_type": "code",
   "execution_count": 10,
   "id": "88add2e8",
   "metadata": {},
   "outputs": [
    {
     "data": {
      "text/plain": [
       "aa    11\n",
       "bb    22\n",
       "cc    33\n",
       "dd    44\n",
       "dtype: int64"
      ]
     },
     "execution_count": 10,
     "metadata": {},
     "output_type": "execute_result"
    }
   ],
   "source": [
    "pd.Series(dictionary)"
   ]
  },
  {
   "cell_type": "code",
   "execution_count": 11,
   "id": "f81a6f17",
   "metadata": {
    "scrolled": true
   },
   "outputs": [
    {
     "data": {
      "text/plain": [
       "A    1\n",
       "B    2\n",
       "C    3\n",
       "D    4\n",
       "E    5\n",
       "F    6\n",
       "G    7\n",
       "dtype: int64"
      ]
     },
     "execution_count": 11,
     "metadata": {},
     "output_type": "execute_result"
    }
   ],
   "source": [
    "pd.Series(series_list, index = [labels])"
   ]
  },
  {
   "cell_type": "code",
   "execution_count": 17,
   "id": "8b17f30e",
   "metadata": {},
   "outputs": [
    {
     "data": {
      "text/plain": [
       "0    10\n",
       "1    20\n",
       "2    30\n",
       "3    40\n",
       "4    50\n",
       "dtype: int32"
      ]
     },
     "execution_count": 17,
     "metadata": {},
     "output_type": "execute_result"
    }
   ],
   "source": [
    "pd.Series(array)"
   ]
  },
  {
   "cell_type": "code",
   "execution_count": 23,
   "id": "1b1af177",
   "metadata": {
    "scrolled": true
   },
   "outputs": [
    {
     "data": {
      "text/plain": [
       "A    1\n",
       "B    2\n",
       "C    3\n",
       "D    4\n",
       "E    5\n",
       "F    6\n",
       "G    7\n",
       "dtype: int64"
      ]
     },
     "execution_count": 23,
     "metadata": {},
     "output_type": "execute_result"
    }
   ],
   "source": [
    "pd.Series(series_list,labels)"
   ]
  },
  {
   "cell_type": "markdown",
   "id": "b3f45d1c",
   "metadata": {},
   "source": [
    "# Data Visoulization in pandas"
   ]
  },
  {
   "cell_type": "code",
   "execution_count": null,
   "id": "4f91e435",
   "metadata": {},
   "outputs": [],
   "source": [
    "# bar,barh,line,pie,box,hist,area"
   ]
  },
  {
   "cell_type": "code",
   "execution_count": 55,
   "id": "55d8081b",
   "metadata": {},
   "outputs": [
    {
     "data": {
      "text/plain": [
       "<AxesSubplot:>"
      ]
     },
     "execution_count": 55,
     "metadata": {},
     "output_type": "execute_result"
    },
    {
     "data": {
      "image/png": "[encoded data removed]",
      "text/plain": [
       "<Figure size 432x288 with 1 Axes>"
      ]
     },
     "metadata": {
      "needs_background": "light"
     },
     "output_type": "display_data"
    }
   ],
   "source": [
    "data.plot(kind='bar')"
   ]
  },
  {
   "cell_type": "code",
   "execution_count": 59,
   "id": "57337830",
   "metadata": {},
   "outputs": [
    {
     "data": {
      "text/plain": [
       "<AxesSubplot:ylabel='None'>"
      ]
     },
     "execution_count": 59,
     "metadata": {},
     "output_type": "execute_result"
    },
    {
     "data": {
      "image/png": "[encoded data removed]",
      "text/plain": [
       "<Figure size 432x288 with 1 Axes>"
      ]
     },
     "metadata": {},
     "output_type": "display_data"
    }
   ],
   "source": [
    "data.plot(kind='pie')"
   ]
  },
  {
   "cell_type": "markdown",
   "id": "c0bb956f",
   "metadata": {},
   "source": [
    "# DataFrame"
   ]
  },
  {
   "cell_type": "markdown",
   "id": "3c88d77a",
   "metadata": {},
   "source": [
    "1) A DataFrame is a two-dimensional data structure in tabular format, consisting of rows and columns.                           \n",
    "2) It has to use pandas in pyhton library"
   ]
  },
  {
   "cell_type": "markdown",
   "id": "57e6e2c5",
   "metadata": {},
   "source": [
    "## Dictionary - DataFrame"
   ]
  },
  {
   "cell_type": "code",
   "execution_count": 18,
   "id": "91517a89",
   "metadata": {},
   "outputs": [
    {
     "name": "stdout",
     "output_type": "stream",
     "text": [
      "    Name Department  Age\n",
      "0    abi        Cse   21\n",
      "1   kani         It   20\n",
      "2   main        Ece   21\n",
      "3  kumar        Cse   25\n"
     ]
    }
   ],
   "source": [
    "import pandas as pd\n",
    "datas = {\n",
    "    \"Name\" :[\"abi\",\"kani\",\"main\",\"kumar\"],\n",
    "    \"Department\" : [\"Cse\",\"It\",\"Ece\",\"Cse\"],\n",
    "    \"Age\" : [21,20,21,25]\n",
    "}\n",
    "df = pd.DataFrame(datas)\n",
    "print(df)"
   ]
  },
  {
   "cell_type": "markdown",
   "id": "09a244e1",
   "metadata": {},
   "source": [
    "## list - DataFrame"
   ]
  },
  {
   "cell_type": "code",
   "execution_count": 5,
   "id": "2f15e1f5",
   "metadata": {},
   "outputs": [
    {
     "name": "stdout",
     "output_type": "stream",
     "text": [
      "    Id    Name Department\n",
      "0  101    Mani         IT\n",
      "1  102   kumar        CSE\n",
      "2  103  Kannan        Ece\n"
     ]
    }
   ],
   "source": [
    "heading = [\"Id\",\"Name\",\"Department\"]\n",
    "datas = [[101,\"Mani\",\"IT\"],[102,\"kumar\",\"CSE\"],[103,\"Kannan\",\"Ece\"]]\n",
    "data_Frame =pd.DataFrame(datas, columns = heading)\n",
    "print(data_Frame)\n"
   ]
  },
  {
   "cell_type": "markdown",
   "id": "28735ebe",
   "metadata": {},
   "source": [
    "## Accessing in all the things "
   ]
  },
  {
   "cell_type": "code",
   "execution_count": null,
   "id": "5e6c231d",
   "metadata": {},
   "outputs": [],
   "source": [
    "# in pandas dic can access with help of location method or locate"
   ]
  },
  {
   "cell_type": "code",
   "execution_count": 62,
   "id": "6b170b5a",
   "metadata": {},
   "outputs": [
    {
     "data": {
      "text/plain": [
       "1      abi\n",
       "2     kani\n",
       "3     main\n",
       "4    kumar\n",
       "Name: Name, dtype: object"
      ]
     },
     "execution_count": 62,
     "metadata": {},
     "output_type": "execute_result"
    }
   ],
   "source": [
    "df[\"Name\"]"
   ]
  },
  {
   "cell_type": "code",
   "execution_count": 66,
   "id": "2fddd281",
   "metadata": {},
   "outputs": [
    {
     "name": "stdout",
     "output_type": "stream",
     "text": [
      "Name          main\n",
      "Department     Ece\n",
      "Age             21\n",
      "Name: 3, dtype: object\n"
     ]
    }
   ],
   "source": [
    "print(df.loc[3])"
   ]
  },
  {
   "cell_type": "code",
   "execution_count": 45,
   "id": "baae3733",
   "metadata": {},
   "outputs": [
    {
     "name": "stdout",
     "output_type": "stream",
     "text": [
      "      Name Department  Age\n",
      "0      abi        Cse   21\n",
      "1     kani         It   20\n",
      "2     main        Ece   21\n",
      "3    kumar        Cse   25\n",
      "4    muthu        Cse   27\n",
      "5  senthil        Ece   25\n",
      "6   selvam        Eee   21\n",
      "7    kumar        Cse   25\n"
     ]
    }
   ],
   "source": [
    "import pandas as pd\n",
    "first = {\n",
    "    \"Name\" :[\"abi\",\"kani\",\"main\",\"kumar\"],\n",
    "    \"Department\" : [\"Cse\",\"It\",\"Ece\",\"Cse\"],\n",
    "    \"Age\" : [21,20,21,25]\n",
    "}\n",
    "df = pd.DataFrame(first)\n",
    "new = {\n",
    "    \"Name\" :[\"muthu\",\"senthil\",\"selvam\",\"kumar\"],\n",
    "    \"Department\" : [\"Cse\",\"Ece\",\"Eee\",\"Cse\"],\n",
    "    \"Age\" : [27,25,21,25]\n",
    "}\n",
    "df2 = pd.DataFrame(new)\n",
    "dff=pd.concat([df,df2], ignore_index = True)\n",
    "print(dff)"
   ]
  },
  {
   "cell_type": "code",
   "execution_count": 46,
   "id": "8acd2802",
   "metadata": {},
   "outputs": [
    {
     "data": {
      "text/plain": [
       "0    False\n",
       "1    False\n",
       "2    False\n",
       "3    False\n",
       "4    False\n",
       "5    False\n",
       "6    False\n",
       "7     True\n",
       "dtype: bool"
      ]
     },
     "execution_count": 46,
     "metadata": {},
     "output_type": "execute_result"
    }
   ],
   "source": [
    "# show Duplicates\n",
    "dff.duplicated()"
   ]
  },
  {
   "cell_type": "code",
   "execution_count": 47,
   "id": "f7b991e2",
   "metadata": {},
   "outputs": [
    {
     "data": {
      "text/html": [
       "<div>\n",
       "<style scoped>\n",
       "    .dataframe tbody tr th:only-of-type {\n",
       "        vertical-align: middle;\n",
       "    }\n",
       "\n",
       "    .dataframe tbody tr th {\n",
       "        vertical-align: top;\n",
       "    }\n",
       "\n",
       "    .dataframe thead th {\n",
       "        text-align: right;\n",
       "    }\n",
       "</style>\n",
       "<table border=\"1\" class=\"dataframe\">\n",
       "  <thead>\n",
       "    <tr style=\"text-align: right;\">\n",
       "      <th></th>\n",
       "      <th>Name</th>\n",
       "      <th>Department</th>\n",
       "      <th>Age</th>\n",
       "    </tr>\n",
       "  </thead>\n",
       "  <tbody>\n",
       "    <tr>\n",
       "      <th>7</th>\n",
       "      <td>kumar</td>\n",
       "      <td>Cse</td>\n",
       "      <td>25</td>\n",
       "    </tr>\n",
       "  </tbody>\n",
       "</table>\n",
       "</div>"
      ],
      "text/plain": [
       "    Name Department  Age\n",
       "7  kumar        Cse   25"
      ]
     },
     "execution_count": 47,
     "metadata": {},
     "output_type": "execute_result"
    }
   ],
   "source": [
    "dff[dff.duplicated()]"
   ]
  },
  {
   "cell_type": "code",
   "execution_count": 49,
   "id": "eaae8ada",
   "metadata": {},
   "outputs": [
    {
     "data": {
      "text/html": [
       "<div>\n",
       "<style scoped>\n",
       "    .dataframe tbody tr th:only-of-type {\n",
       "        vertical-align: middle;\n",
       "    }\n",
       "\n",
       "    .dataframe tbody tr th {\n",
       "        vertical-align: top;\n",
       "    }\n",
       "\n",
       "    .dataframe thead th {\n",
       "        text-align: right;\n",
       "    }\n",
       "</style>\n",
       "<table border=\"1\" class=\"dataframe\">\n",
       "  <thead>\n",
       "    <tr style=\"text-align: right;\">\n",
       "      <th></th>\n",
       "      <th>Name</th>\n",
       "      <th>Department</th>\n",
       "      <th>Age</th>\n",
       "    </tr>\n",
       "  </thead>\n",
       "  <tbody>\n",
       "    <tr>\n",
       "      <th>7</th>\n",
       "      <td>kumar</td>\n",
       "      <td>Cse</td>\n",
       "      <td>25</td>\n",
       "    </tr>\n",
       "  </tbody>\n",
       "</table>\n",
       "</div>"
      ],
      "text/plain": [
       "    Name Department  Age\n",
       "7  kumar        Cse   25"
      ]
     },
     "execution_count": 49,
     "metadata": {},
     "output_type": "execute_result"
    }
   ],
   "source": [
    "dff[dff.duplicated(keep = \"first\")]"
   ]
  },
  {
   "cell_type": "code",
   "execution_count": 50,
   "id": "23fd0a4b",
   "metadata": {},
   "outputs": [
    {
     "data": {
      "text/html": [
       "<div>\n",
       "<style scoped>\n",
       "    .dataframe tbody tr th:only-of-type {\n",
       "        vertical-align: middle;\n",
       "    }\n",
       "\n",
       "    .dataframe tbody tr th {\n",
       "        vertical-align: top;\n",
       "    }\n",
       "\n",
       "    .dataframe thead th {\n",
       "        text-align: right;\n",
       "    }\n",
       "</style>\n",
       "<table border=\"1\" class=\"dataframe\">\n",
       "  <thead>\n",
       "    <tr style=\"text-align: right;\">\n",
       "      <th></th>\n",
       "      <th>Name</th>\n",
       "      <th>Department</th>\n",
       "      <th>Age</th>\n",
       "    </tr>\n",
       "  </thead>\n",
       "  <tbody>\n",
       "    <tr>\n",
       "      <th>0</th>\n",
       "      <td>abi</td>\n",
       "      <td>Cse</td>\n",
       "      <td>21</td>\n",
       "    </tr>\n",
       "    <tr>\n",
       "      <th>1</th>\n",
       "      <td>kani</td>\n",
       "      <td>It</td>\n",
       "      <td>20</td>\n",
       "    </tr>\n",
       "    <tr>\n",
       "      <th>2</th>\n",
       "      <td>main</td>\n",
       "      <td>Ece</td>\n",
       "      <td>21</td>\n",
       "    </tr>\n",
       "    <tr>\n",
       "      <th>3</th>\n",
       "      <td>kumar</td>\n",
       "      <td>Cse</td>\n",
       "      <td>25</td>\n",
       "    </tr>\n",
       "    <tr>\n",
       "      <th>4</th>\n",
       "      <td>muthu</td>\n",
       "      <td>Cse</td>\n",
       "      <td>27</td>\n",
       "    </tr>\n",
       "  </tbody>\n",
       "</table>\n",
       "</div>"
      ],
      "text/plain": [
       "    Name Department  Age\n",
       "0    abi        Cse   21\n",
       "1   kani         It   20\n",
       "2   main        Ece   21\n",
       "3  kumar        Cse   25\n",
       "4  muthu        Cse   27"
      ]
     },
     "execution_count": 50,
     "metadata": {},
     "output_type": "execute_result"
    }
   ],
   "source": [
    "dff.head()"
   ]
  },
  {
   "cell_type": "markdown",
   "id": "22cb3b8f",
   "metadata": {},
   "source": [
    "## Unique"
   ]
  },
  {
   "cell_type": "code",
   "execution_count": 51,
   "id": "21f79ed6",
   "metadata": {},
   "outputs": [
    {
     "name": "stdout",
     "output_type": "stream",
     "text": [
      "['abi' 'kani' 'main' 'kumar' 'muthu' 'senthil' 'selvam']\n"
     ]
    }
   ],
   "source": [
    "unique_values=dff[\"Name\"].unique()\n",
    "print(unique_values)"
   ]
  },
  {
   "cell_type": "code",
   "execution_count": null,
   "id": "d45514f2",
   "metadata": {},
   "outputs": [],
   "source": [
    "cou"
   ]
  },
  {
   "cell_type": "markdown",
   "id": "8ddb4722",
   "metadata": {},
   "source": [
    "## Pandas Function"
   ]
  },
  {
   "cell_type": "code",
   "execution_count": 29,
   "id": "5ab0668d",
   "metadata": {},
   "outputs": [
    {
     "data": {
      "text/html": [
       "<div>\n",
       "<style scoped>\n",
       "    .dataframe tbody tr th:only-of-type {\n",
       "        vertical-align: middle;\n",
       "    }\n",
       "\n",
       "    .dataframe tbody tr th {\n",
       "        vertical-align: top;\n",
       "    }\n",
       "\n",
       "    .dataframe thead th {\n",
       "        text-align: right;\n",
       "    }\n",
       "</style>\n",
       "<table border=\"1\" class=\"dataframe\">\n",
       "  <thead>\n",
       "    <tr style=\"text-align: right;\">\n",
       "      <th></th>\n",
       "      <th>Name</th>\n",
       "      <th>Department</th>\n",
       "      <th>Age</th>\n",
       "    </tr>\n",
       "  </thead>\n",
       "  <tbody>\n",
       "    <tr>\n",
       "      <th>3</th>\n",
       "      <td>kumar</td>\n",
       "      <td>Cse</td>\n",
       "      <td>25</td>\n",
       "    </tr>\n",
       "  </tbody>\n",
       "</table>\n",
       "</div>"
      ],
      "text/plain": [
       "    Name Department  Age\n",
       "3  kumar        Cse   25"
      ]
     },
     "execution_count": 29,
     "metadata": {},
     "output_type": "execute_result"
    }
   ],
   "source": [
    "df[df.duplicated(keep = \"last\")]"
   ]
  },
  {
   "cell_type": "code",
   "execution_count": 2,
   "id": "053377d6",
   "metadata": {},
   "outputs": [],
   "source": [
    "# Pandas"
   ]
  },
  {
   "cell_type": "code",
   "execution_count": 6,
   "id": "3a5719ff",
   "metadata": {},
   "outputs": [
    {
     "name": "stdout",
     "output_type": "stream",
     "text": [
      "   S.No Name   Age Gender  Marks\n",
      "0   1.0    aa   18      M   70.0\n",
      "1   2.0    bb   17      M   80.0\n",
      "2   3.0    cc   26      F   84.0\n",
      "3   4.0    dd   25      M   65.0\n",
      "4   5.0    ee   34    NaN    NaN\n",
      "5   6.0    ff   29      F   94.0\n",
      "6   NaN    gg   15      F   95.0\n",
      "7   8.0    hh   45      M   87.0\n",
      "8   9.0    ii   15      M    NaN\n"
     ]
    }
   ],
   "source": [
    "import pandas as pd\n",
    "data =pd.read_excel(r\"C:\\Users\\ms900\\OneDrive\\Desktop\\Pandas_example.xlsx\")\n",
    "print(data)"
   ]
  },
  {
   "cell_type": "code",
   "execution_count": 16,
   "id": "822113f8",
   "metadata": {},
   "outputs": [
    {
     "name": "stdout",
     "output_type": "stream",
     "text": [
      "   S.No Name   Age Gender  Marks  Rank\n",
      "0   1.0    aa   18      M   70.0   6.0\n",
      "1   2.0    bb   17      M   80.0   5.0\n",
      "2   3.0    cc   26      F   84.0   4.0\n",
      "3   4.0    dd   25      M   65.0   7.0\n",
      "5   6.0    ff   29      F   94.0   2.0\n",
      "7   8.0    hh   45      M   87.0   3.0\n"
     ]
    }
   ],
   "source": [
    "df =pd.DataFrame(data)\n",
    "clean = df.dropna()\n",
    "print(clean)"
   ]
  },
  {
   "cell_type": "code",
   "execution_count": 19,
   "id": "ee9918ba",
   "metadata": {},
   "outputs": [
    {
     "name": "stdout",
     "output_type": "stream",
     "text": [
      "   S.No Name   Age Gender  Marks  Rank\n",
      "0   1.0    aa   18      M   70.0   2.0\n",
      "1   2.0    bb   17      M   80.0   3.0\n",
      "2   3.0    cc   26      F   84.0   4.0\n",
      "3   4.0    dd   25      M   65.0   1.0\n",
      "5   6.0    ff   29      F   94.0   6.0\n",
      "7   8.0    hh   45      M   87.0   5.0\n"
     ]
    },
    {
     "name": "stderr",
     "output_type": "stream",
     "text": [
      "C:\\Users\\ms900\\AppData\\Local\\Temp/ipykernel_24552/2518952718.py:1: SettingWithCopyWarning: \n",
      "A value is trying to be set on a copy of a slice from a DataFrame.\n",
      "Try using .loc[row_indexer,col_indexer] = value instead\n",
      "\n",
      "See the caveats in the documentation: https://pandas.pydata.org/pandas-docs/stable/user_guide/indexing.html#returning-a-view-versus-a-copy\n",
      "  clean[\"Rank\"]=clean[\"Marks\"].rank()\n"
     ]
    }
   ],
   "source": [
    "\n",
    "clean[\"Rank\"]=clean[\"Marks\"].rank()\n",
    "print(clean)"
   ]
  },
  {
   "cell_type": "code",
   "execution_count": 21,
   "id": "0f46f469",
   "metadata": {},
   "outputs": [
    {
     "name": "stdout",
     "output_type": "stream",
     "text": [
      "   S.No Name   Age Gender  Marks  Rank  min_rank\n",
      "0   1.0    aa   18      M   70.0   2.0       2.0\n",
      "1   2.0    bb   17      M   80.0   3.0       3.0\n",
      "2   3.0    cc   26      F   84.0   4.0       4.0\n",
      "3   4.0    dd   25      M   65.0   1.0       1.0\n",
      "5   6.0    ff   29      F   94.0   6.0       6.0\n",
      "7   8.0    hh   45      M   87.0   5.0       5.0\n"
     ]
    },
    {
     "name": "stderr",
     "output_type": "stream",
     "text": [
      "C:\\Users\\ms900\\AppData\\Local\\Temp/ipykernel_24552/4219447953.py:1: SettingWithCopyWarning: \n",
      "A value is trying to be set on a copy of a slice from a DataFrame.\n",
      "Try using .loc[row_indexer,col_indexer] = value instead\n",
      "\n",
      "See the caveats in the documentation: https://pandas.pydata.org/pandas-docs/stable/user_guide/indexing.html#returning-a-view-versus-a-copy\n",
      "  clean[\"min_rank\"] = clean[\"Rank\"].rank(method =\"min\")\n"
     ]
    }
   ],
   "source": [
    "clean[\"min_rank\"] = clean[\"Rank\"].rank(method =\"min\")\n",
    "print((clean))"
   ]
  },
  {
   "cell_type": "code",
   "execution_count": 1,
   "id": "c1226d8d",
   "metadata": {},
   "outputs": [
    {
     "name": "stdout",
     "output_type": "stream",
     "text": [
      "   product  amount\n",
      "0    Apple     110\n",
      "1    Mango     202\n",
      "2   orange     250\n",
      "3     kuwi     450\n",
      "0  headset      50\n",
      "1  speaker     550\n",
      "2    balls    1200\n",
      "3      bag     750\n",
      "--------------IIn Order methos----------------\n",
      "   product  amount\n",
      "0    Apple     110\n",
      "1    Mango     202\n",
      "2   orange     250\n",
      "3     kuwi     450\n",
      "4  headset      50\n",
      "5  speaker     550\n",
      "6    balls    1200\n",
      "7      bag     750\n"
     ]
    }
   ],
   "source": [
    "import pandas as pd\n",
    "df1 =pd.DataFrame({\"product\" : [\"Apple\",\"Mango\",\"orange\",\"kuwi\"],\n",
    "                    \"amount\" : [110,202,250,450]})\n",
    "df2 =pd.DataFrame({\"product\" : [\"headset\",\"speaker\",\"balls\",\"bag\"],\n",
    "                    \"amount\" : [50,550,1200,750]})\n",
    "concat=pd.concat([df1,df2])\n",
    "concat1 =pd.concat([df1,df2],ignore_index = True)\n",
    "print(concat)\n",
    "print(\"--------------IIn Order methos----------------\")\n",
    "print(concat1)"
   ]
  },
  {
   "cell_type": "code",
   "execution_count": 34,
   "id": "42afa3aa",
   "metadata": {},
   "outputs": [
    {
     "name": "stdout",
     "output_type": "stream",
     "text": [
      "   product  amount  disc\n",
      "0    Apple     110    12\n",
      "1    Mango     202    50\n",
      "2   orange     250    60\n",
      "3     kuwi     450    40\n",
      "4  headset      50     5\n",
      "5  speaker     550    50\n",
      "6    balls    1200    58\n",
      "7      bag     750    95\n"
     ]
    }
   ],
   "source": [
    "# axis means add the values to column side\n",
    "df3 =pd.DataFrame({\"disc\" : [12,50,60,40,5,50,58,95]})\n",
    "add_column =pd.concat([concat1,df3],axis =1)\n",
    "print(add_column)"
   ]
  },
  {
   "cell_type": "code",
   "execution_count": 35,
   "id": "f33d7cec",
   "metadata": {},
   "outputs": [
    {
     "name": "stdout",
     "output_type": "stream",
     "text": [
      "  product  amount products\n",
      "0   Apple     110      NaN\n",
      "1   Mango     202      NaN\n",
      "2  orange     250      NaN\n",
      "3    kuwi     450      NaN\n",
      "4     NaN      50  headset\n",
      "5     NaN     550  speaker\n",
      "6     NaN    1200    balls\n",
      "7     NaN     750      bag\n"
     ]
    }
   ],
   "source": [
    "# mixing the two dfs\n",
    "df4 =pd.DataFrame({\"product\" : [\"Apple\",\"Mango\",\"orange\",\"kuwi\"],\n",
    "                    \"amount\" : [110,202,250,450]})\n",
    "df5 =pd.DataFrame({\"products\" : [\"headset\",\"speaker\",\"balls\",\"bag\"],\n",
    "                    \"amount\" : [50,550,1200,750]})\n",
    "compaine = pd.concat([df4,df5],ignore_index = True)\n",
    "print(compaine)"
   ]
  },
  {
   "cell_type": "markdown",
   "id": "dc8b101e",
   "metadata": {},
   "source": [
    "# JOINS"
   ]
  },
  {
   "cell_type": "code",
   "execution_count": 9,
   "id": "060970a7",
   "metadata": {},
   "outputs": [
    {
     "name": "stdout",
     "output_type": "stream",
     "text": [
      "   product  amount  Disc\n",
      "0    Apple   110.0   NaN\n",
      "1    Mango   202.0  18.0\n",
      "2   orange   250.0   NaN\n",
      "3     kuwi   450.0  25.0\n",
      "4  headset     NaN  15.0\n",
      "5    balls     NaN  20.0\n",
      "-------------end-------------\n",
      "  product  amount  Disc\n",
      "0   Mango     202    18\n",
      "1    kuwi     450    25\n",
      "-------------end-------------\n",
      "  product  amount  Disc\n",
      "0   Apple     110   NaN\n",
      "1   Mango     202  18.0\n",
      "2  orange     250   NaN\n",
      "3    kuwi     450  25.0\n",
      "-------------end-------------\n",
      "   product  amount  Disc\n",
      "0  headset     NaN    15\n",
      "1    Mango   202.0    18\n",
      "2    balls     NaN    20\n",
      "3     kuwi   450.0    25\n"
     ]
    }
   ],
   "source": [
    "import pandas as pd\n",
    "df6 =pd.DataFrame({\"product\" : [\"Apple\",\"Mango\",\"orange\",\"kuwi\"],\n",
    "                    \"amount\" : [110,202,250,450]})\n",
    "df7 =pd.DataFrame({\"product\" : [\"headset\",\"Mango\",\"balls\",\"kuwi\"],\n",
    "                    \"Disc\" : [15,18,20,25]})\n",
    "outer_joins =pd.merge(df6,df7, on = \"product\", how = \"outer\")\n",
    "inner_join = pd.merge(df6, df7, on = \"product\" , how = \"inner\")\n",
    "left_joins =pd.merge(df6,df7, on = \"product\", how = \"left\")\n",
    "right_join = pd.merge(df6, df7, on = \"product\" , how = \"right\")\n",
    "print(outer_joins)\n",
    "print(\"-------------end-------------\")\n",
    "print(inner_join)\n",
    "print(\"-------------end-------------\")\n",
    "print(left_joins)\n",
    "print(\"-------------end-------------\")\n",
    "print(right_join)"
   ]
  },
  {
   "cell_type": "code",
   "execution_count": 4,
   "id": "68eba217",
   "metadata": {},
   "outputs": [
    {
     "name": "stdout",
     "output_type": "stream",
     "text": [
      "  product  qty  amount  Disc\n",
      "0   Apple   10     110    15\n",
      "1   Mango   20     202    18\n"
     ]
    }
   ],
   "source": [
    "df8 =pd.DataFrame({\"product\" : [\"Apple\",\"Mango\",\"orange\",\"kuwi\"],\n",
    "                    \"qty\" : [10,20,30,40],\n",
    "                    \"amount\" : [110,202,250,450]})\n",
    "df9=pd.DataFrame({\"product\" : [\"Apple\",\"Mango\",\"balls\",\"kuwi\"],\n",
    "                   \"qty\" : [10,20,50,60],\n",
    "                    \"Disc\" : [15,18,20,25]})\n",
    "merge_mult_col =pd.merge(df8, df9 , on = [\"product\",\"qty\"], how = \"inner\")\n",
    "print(merge_mult_col)"
   ]
  },
  {
   "cell_type": "markdown",
   "id": "4d3e3b05",
   "metadata": {},
   "source": [
    "# merge by multiple columns"
   ]
  },
  {
   "cell_type": "code",
   "execution_count": 3,
   "id": "5fc4a2bd",
   "metadata": {
    "scrolled": true
   },
   "outputs": [
    {
     "name": "stdout",
     "output_type": "stream",
     "text": [
      "  product  qty  amount  Disc\n",
      "0   Apple   10     110    15\n",
      "1   Mango   20     202    18\n"
     ]
    }
   ],
   "source": [
    "df8 =pd.DataFrame({\"product\" : [\"Apple\",\"Mango\",\"orange\",\"kuwi\"],\n",
    "                    \"qty\" : [10,20,30,40],\n",
    "                    \"amount\" : [110,202,250,450]})\n",
    "df9=pd.DataFrame({\"product\" : [\"Apple\",\"Mango\",\"balls\",\"kuwi\"],\n",
    "                   \"qty\" : [10,20,50,60],\n",
    "                    \"Disc\" : [15,18,20,25]})\n",
    "merge_mult_col =pd.merge(df8, df9 , on = [\"product\",\"qty\"], how = \"inner\")\n",
    "print(merge_mult_col)"
   ]
  },
  {
   "cell_type": "code",
   "execution_count": 2,
   "id": "b04917ca",
   "metadata": {},
   "outputs": [
    {
     "name": "stdout",
     "output_type": "stream",
     "text": [
      "   product  amount\n",
      "0    Apple     110\n",
      "1    Mango     202\n",
      "2   orange     250\n",
      "3     kuwi     450\n",
      "4  headset      50\n",
      "5  speaker     550\n",
      "6    balls    1200\n",
      "7      bag     750\n"
     ]
    }
   ],
   "source": [
    "print(concat1)"
   ]
  },
  {
   "cell_type": "code",
   "execution_count": 8,
   "id": "010a4403",
   "metadata": {},
   "outputs": [
    {
     "data": {
      "text/html": [
       "<div>\n",
       "<style scoped>\n",
       "    .dataframe tbody tr th:only-of-type {\n",
       "        vertical-align: middle;\n",
       "    }\n",
       "\n",
       "    .dataframe tbody tr th {\n",
       "        vertical-align: top;\n",
       "    }\n",
       "\n",
       "    .dataframe thead th {\n",
       "        text-align: right;\n",
       "    }\n",
       "</style>\n",
       "<table border=\"1\" class=\"dataframe\">\n",
       "  <thead>\n",
       "    <tr style=\"text-align: right;\">\n",
       "      <th></th>\n",
       "      <th>product</th>\n",
       "    </tr>\n",
       "  </thead>\n",
       "  <tbody>\n",
       "    <tr>\n",
       "      <th>0</th>\n",
       "      <td>Apple</td>\n",
       "    </tr>\n",
       "    <tr>\n",
       "      <th>1</th>\n",
       "      <td>Mango</td>\n",
       "    </tr>\n",
       "    <tr>\n",
       "      <th>2</th>\n",
       "      <td>orange</td>\n",
       "    </tr>\n",
       "    <tr>\n",
       "      <th>3</th>\n",
       "      <td>kuwi</td>\n",
       "    </tr>\n",
       "    <tr>\n",
       "      <th>4</th>\n",
       "      <td>headset</td>\n",
       "    </tr>\n",
       "    <tr>\n",
       "      <th>5</th>\n",
       "      <td>speaker</td>\n",
       "    </tr>\n",
       "    <tr>\n",
       "      <th>6</th>\n",
       "      <td>balls</td>\n",
       "    </tr>\n",
       "    <tr>\n",
       "      <th>7</th>\n",
       "      <td>bag</td>\n",
       "    </tr>\n",
       "  </tbody>\n",
       "</table>\n",
       "</div>"
      ],
      "text/plain": [
       "   product\n",
       "0    Apple\n",
       "1    Mango\n",
       "2   orange\n",
       "3     kuwi\n",
       "4  headset\n",
       "5  speaker\n",
       "6    balls\n",
       "7      bag"
      ]
     },
     "execution_count": 8,
     "metadata": {},
     "output_type": "execute_result"
    }
   ],
   "source": [
    "concat1.loc[:8,[\"product\"]]"
   ]
  },
  {
   "cell_type": "code",
   "execution_count": 9,
   "id": "55651909",
   "metadata": {},
   "outputs": [
    {
     "data": {
      "text/html": [
       "<div>\n",
       "<style scoped>\n",
       "    .dataframe tbody tr th:only-of-type {\n",
       "        vertical-align: middle;\n",
       "    }\n",
       "\n",
       "    .dataframe tbody tr th {\n",
       "        vertical-align: top;\n",
       "    }\n",
       "\n",
       "    .dataframe thead th {\n",
       "        text-align: right;\n",
       "    }\n",
       "</style>\n",
       "<table border=\"1\" class=\"dataframe\">\n",
       "  <thead>\n",
       "    <tr style=\"text-align: right;\">\n",
       "      <th></th>\n",
       "      <th>product</th>\n",
       "      <th>amount</th>\n",
       "    </tr>\n",
       "  </thead>\n",
       "  <tbody>\n",
       "    <tr>\n",
       "      <th>0</th>\n",
       "      <td>Apple</td>\n",
       "      <td>110</td>\n",
       "    </tr>\n",
       "    <tr>\n",
       "      <th>1</th>\n",
       "      <td>Mango</td>\n",
       "      <td>202</td>\n",
       "    </tr>\n",
       "    <tr>\n",
       "      <th>2</th>\n",
       "      <td>orange</td>\n",
       "      <td>250</td>\n",
       "    </tr>\n",
       "    <tr>\n",
       "      <th>3</th>\n",
       "      <td>kuwi</td>\n",
       "      <td>450</td>\n",
       "    </tr>\n",
       "    <tr>\n",
       "      <th>4</th>\n",
       "      <td>headset</td>\n",
       "      <td>50</td>\n",
       "    </tr>\n",
       "    <tr>\n",
       "      <th>5</th>\n",
       "      <td>speaker</td>\n",
       "      <td>550</td>\n",
       "    </tr>\n",
       "    <tr>\n",
       "      <th>6</th>\n",
       "      <td>balls</td>\n",
       "      <td>1200</td>\n",
       "    </tr>\n",
       "    <tr>\n",
       "      <th>7</th>\n",
       "      <td>bag</td>\n",
       "      <td>750</td>\n",
       "    </tr>\n",
       "  </tbody>\n",
       "</table>\n",
       "</div>"
      ],
      "text/plain": [
       "   product  amount\n",
       "0    Apple     110\n",
       "1    Mango     202\n",
       "2   orange     250\n",
       "3     kuwi     450\n",
       "4  headset      50\n",
       "5  speaker     550\n",
       "6    balls    1200\n",
       "7      bag     750"
      ]
     },
     "execution_count": 9,
     "metadata": {},
     "output_type": "execute_result"
    }
   ],
   "source": [
    "concat1.iloc[:]"
   ]
  },
  {
   "cell_type": "markdown",
   "id": "a0ebc6f1",
   "metadata": {},
   "source": [
    "## practice"
   ]
  },
  {
   "cell_type": "code",
   "execution_count": 145,
   "id": "5d88380f",
   "metadata": {
    "scrolled": true
   },
   "outputs": [
    {
     "name": "stdout",
     "output_type": "stream",
     "text": [
      "    Rol Number Name   Gender  Marks\n",
      "0         1220    aa    Male   70.0\n",
      "1         1221    bb    Male    NaN\n",
      "2         1223    cc  Female   84.0\n",
      "3         1224    dd    Male    NaN\n",
      "4         1225    ee    Male   84.0\n",
      "5         1226    ff  Female   94.0\n",
      "6         1227    gg  Female    NaN\n",
      "7         1228    hh    Male   87.0\n",
      "8         1229    ii    Male   88.0\n",
      "9         1130    jb    Male   88.0\n",
      "10        1234    mk  Female   87.0\n",
      "11        2514   mmk    Male   66.0\n",
      "12        2546   ppl    Male   84.0\n",
      "13        2356   nnp  Female   77.0\n"
     ]
    }
   ],
   "source": [
    "import pandas as pd\n",
    "file_load = pd.read_excel(\"C:\\\\Users\\\\ms900\\\\OneDrive\\\\Desktop\\\\Pandas_example.xlsx\")\n",
    "print(file_load)"
   ]
  },
  {
   "cell_type": "code",
   "execution_count": 106,
   "id": "e3bdcfdc",
   "metadata": {},
   "outputs": [
    {
     "data": {
      "text/html": [
       "<div>\n",
       "<style scoped>\n",
       "    .dataframe tbody tr th:only-of-type {\n",
       "        vertical-align: middle;\n",
       "    }\n",
       "\n",
       "    .dataframe tbody tr th {\n",
       "        vertical-align: top;\n",
       "    }\n",
       "\n",
       "    .dataframe thead th {\n",
       "        text-align: right;\n",
       "    }\n",
       "</style>\n",
       "<table border=\"1\" class=\"dataframe\">\n",
       "  <thead>\n",
       "    <tr style=\"text-align: right;\">\n",
       "      <th></th>\n",
       "      <th>Rol Number</th>\n",
       "      <th>Name</th>\n",
       "      <th>Gender</th>\n",
       "      <th>Marks</th>\n",
       "    </tr>\n",
       "  </thead>\n",
       "  <tbody>\n",
       "    <tr>\n",
       "      <th>0</th>\n",
       "      <td>1220</td>\n",
       "      <td>aa</td>\n",
       "      <td>Male</td>\n",
       "      <td>70.0</td>\n",
       "    </tr>\n",
       "    <tr>\n",
       "      <th>2</th>\n",
       "      <td>1223</td>\n",
       "      <td>cc</td>\n",
       "      <td>Female</td>\n",
       "      <td>84.0</td>\n",
       "    </tr>\n",
       "    <tr>\n",
       "      <th>4</th>\n",
       "      <td>1225</td>\n",
       "      <td>ee</td>\n",
       "      <td>Male</td>\n",
       "      <td>84.0</td>\n",
       "    </tr>\n",
       "    <tr>\n",
       "      <th>5</th>\n",
       "      <td>1226</td>\n",
       "      <td>ff</td>\n",
       "      <td>Female</td>\n",
       "      <td>94.0</td>\n",
       "    </tr>\n",
       "    <tr>\n",
       "      <th>7</th>\n",
       "      <td>1228</td>\n",
       "      <td>hh</td>\n",
       "      <td>Male</td>\n",
       "      <td>87.0</td>\n",
       "    </tr>\n",
       "    <tr>\n",
       "      <th>8</th>\n",
       "      <td>1229</td>\n",
       "      <td>ii</td>\n",
       "      <td>Male</td>\n",
       "      <td>88.0</td>\n",
       "    </tr>\n",
       "    <tr>\n",
       "      <th>9</th>\n",
       "      <td>1130</td>\n",
       "      <td>jb</td>\n",
       "      <td>Male</td>\n",
       "      <td>88.0</td>\n",
       "    </tr>\n",
       "    <tr>\n",
       "      <th>10</th>\n",
       "      <td>1234</td>\n",
       "      <td>mk</td>\n",
       "      <td>Female</td>\n",
       "      <td>87.0</td>\n",
       "    </tr>\n",
       "    <tr>\n",
       "      <th>11</th>\n",
       "      <td>2514</td>\n",
       "      <td>mmk</td>\n",
       "      <td>Male</td>\n",
       "      <td>66.0</td>\n",
       "    </tr>\n",
       "    <tr>\n",
       "      <th>12</th>\n",
       "      <td>2546</td>\n",
       "      <td>ppl</td>\n",
       "      <td>Male</td>\n",
       "      <td>84.0</td>\n",
       "    </tr>\n",
       "    <tr>\n",
       "      <th>13</th>\n",
       "      <td>2356</td>\n",
       "      <td>nnp</td>\n",
       "      <td>Female</td>\n",
       "      <td>77.0</td>\n",
       "    </tr>\n",
       "  </tbody>\n",
       "</table>\n",
       "</div>"
      ],
      "text/plain": [
       "    Rol Number Name   Gender  Marks\n",
       "0         1220    aa    Male   70.0\n",
       "2         1223    cc  Female   84.0\n",
       "4         1225    ee    Male   84.0\n",
       "5         1226    ff  Female   94.0\n",
       "7         1228    hh    Male   87.0\n",
       "8         1229    ii    Male   88.0\n",
       "9         1130    jb    Male   88.0\n",
       "10        1234    mk  Female   87.0\n",
       "11        2514   mmk    Male   66.0\n",
       "12        2546   ppl    Male   84.0\n",
       "13        2356   nnp  Female   77.0"
      ]
     },
     "execution_count": 106,
     "metadata": {},
     "output_type": "execute_result"
    }
   ],
   "source": [
    "file_load.dropna()"
   ]
  },
  {
   "cell_type": "code",
   "execution_count": 107,
   "id": "c71f6b28",
   "metadata": {},
   "outputs": [
    {
     "name": "stdout",
     "output_type": "stream",
     "text": [
      "    Rol Number Name   Gender  Marks\n",
      "0         1220    aa    Male   70.0\n",
      "1         1221    bb    Male    NaN\n",
      "2         1223    cc  Female   84.0\n",
      "3         1224    dd    Male    NaN\n",
      "4         1225    ee    Male   84.0\n",
      "5         1226    ff  Female   94.0\n",
      "6         1227    gg  Female    NaN\n",
      "7         1228    hh    Male   87.0\n",
      "8         1229    ii    Male   88.0\n",
      "9         1130    jb    Male   88.0\n",
      "10        1234    mk  Female   87.0\n",
      "11        2514   mmk    Male   66.0\n",
      "12        2546   ppl    Male   84.0\n",
      "13        2356   nnp  Female   77.0\n"
     ]
    }
   ],
   "source": [
    "DF= pd.DataFrame(file_load)\n",
    "print(DF)"
   ]
  },
  {
   "cell_type": "code",
   "execution_count": 108,
   "id": "68530730",
   "metadata": {},
   "outputs": [
    {
     "name": "stdout",
     "output_type": "stream",
     "text": [
      "    Rol Number Name   Gender  Marks\n",
      "0         1220    aa    Male   70.0\n",
      "2         1223    cc  Female   84.0\n",
      "4         1225    ee    Male   84.0\n",
      "5         1226    ff  Female   94.0\n",
      "7         1228    hh    Male   87.0\n",
      "8         1229    ii    Male   88.0\n",
      "9         1130    jb    Male   88.0\n",
      "10        1234    mk  Female   87.0\n",
      "11        2514   mmk    Male   66.0\n",
      "12        2546   ppl    Male   84.0\n",
      "13        2356   nnp  Female   77.0\n"
     ]
    }
   ],
   "source": [
    "remove_blank = DF.dropna()\n",
    "print(remove_blank)"
   ]
  },
  {
   "cell_type": "code",
   "execution_count": 123,
   "id": "1779e336",
   "metadata": {},
   "outputs": [
    {
     "name": "stdout",
     "output_type": "stream",
     "text": [
      "    Rol Number Name  Gender  Marks\n",
      "0         1220    aa   Male   70.0\n",
      "4         1225    ee   Male   84.0\n",
      "7         1228    hh   Male   87.0\n",
      "8         1229    ii   Male   88.0\n",
      "9         1130    jb   Male   88.0\n",
      "11        2514   mmk   Male   66.0\n",
      "12        2546   ppl   Male   84.0\n"
     ]
    }
   ],
   "source": [
    "male_only=remove_blank[remove_blank[\"Gender\"]==\"Male\"]\n",
    "print(male_only)"
   ]
  },
  {
   "cell_type": "code",
   "execution_count": 156,
   "id": "347982f2",
   "metadata": {},
   "outputs": [
    {
     "name": "stdout",
     "output_type": "stream",
     "text": [
      "    Rol Number Name  Gender  Marks\n",
      "11        2514   mmk   Male   66.0\n",
      "0         1220    aa   Male   70.0\n",
      "4         1225    ee   Male   84.0\n",
      "12        2546   ppl   Male   84.0\n",
      "7         1228    hh   Male   87.0\n",
      "8         1229    ii   Male   88.0\n",
      "9         1130    jb   Male   88.0\n"
     ]
    }
   ],
   "source": [
    "# sort_Marks\n",
    "sort=male_only.sort_values(by=\"Marks\",ascending=\"True\")\n",
    "print(sort)"
   ]
  },
  {
   "cell_type": "code",
   "execution_count": 128,
   "id": "8d51177a",
   "metadata": {},
   "outputs": [
    {
     "data": {
      "text/plain": [
       "mean     81.0\n",
       "max      88.0\n",
       "min      66.0\n",
       "sum     567.0\n",
       "Name: Marks, dtype: float64"
      ]
     },
     "execution_count": 128,
     "metadata": {},
     "output_type": "execute_result"
    }
   ],
   "source": [
    "sort[\"Marks\"].agg([\"mean\",\"max\",\"min\",\"sum\"])"
   ]
  },
  {
   "cell_type": "code",
   "execution_count": 129,
   "id": "0c278d63",
   "metadata": {},
   "outputs": [
    {
     "name": "stdout",
     "output_type": "stream",
     "text": [
      "    Rol Number Name  Gender  Marks\n",
      "11        2514   mmk      M   66.0\n",
      "0         1220    aa      M   70.0\n",
      "4         1225    ee      M   84.0\n",
      "12        2546   ppl      M   84.0\n",
      "7         1228    hh      M   87.0\n",
      "8         1229    ii      M   88.0\n",
      "9         1130    jb      M   88.0\n"
     ]
    }
   ],
   "source": [
    "sort=sort.replace({\"Male\" : \"M\"})\n",
    "print(sort)"
   ]
  },
  {
   "cell_type": "code",
   "execution_count": 157,
   "id": "3f4dbb0e",
   "metadata": {},
   "outputs": [
    {
     "name": "stdout",
     "output_type": "stream",
     "text": [
      "    Rol Number Name  Gender  Marks\n",
      "11        2514   mmk   Male   66.0\n",
      "0         1220    aa   Male   70.0\n",
      "4         1225    ee   Male   84.0\n",
      "12        2546   ppl   Male   84.0\n",
      "7         1228    hh   Male   87.0\n",
      "8         1229    ii   Male   88.0\n",
      "9         1130    jb   Male   88.0\n"
     ]
    }
   ],
   "source": [
    "sec_method = sort.replace(\"M\",\"Male\")\n",
    "print(sec_method)"
   ]
  },
  {
   "cell_type": "code",
   "execution_count": 131,
   "id": "6ba41668",
   "metadata": {},
   "outputs": [
    {
     "name": "stdout",
     "output_type": "stream",
     "text": [
      "    Rol Number Name  Gender  Marks\n",
      "11        2514   mmk      M   66.0\n",
      "0         1220    aa      M   70.0\n",
      "4         1225    ee      M   84.0\n",
      "12        2546   ppl      M   84.0\n",
      "7         1228    hh      M   87.0\n",
      "8         1229    ii      M   88.0\n",
      "9         1130    jb      M   88.0\n"
     ]
    }
   ],
   "source": [
    "print(sort)"
   ]
  },
  {
   "cell_type": "code",
   "execution_count": 141,
   "id": "aaf4c84d",
   "metadata": {},
   "outputs": [
    {
     "data": {
      "text/html": [
       "<div>\n",
       "<style scoped>\n",
       "    .dataframe tbody tr th:only-of-type {\n",
       "        vertical-align: middle;\n",
       "    }\n",
       "\n",
       "    .dataframe tbody tr th {\n",
       "        vertical-align: top;\n",
       "    }\n",
       "\n",
       "    .dataframe thead th {\n",
       "        text-align: right;\n",
       "    }\n",
       "</style>\n",
       "<table border=\"1\" class=\"dataframe\">\n",
       "  <thead>\n",
       "    <tr style=\"text-align: right;\">\n",
       "      <th></th>\n",
       "      <th>Marks</th>\n",
       "      <th>Name</th>\n",
       "    </tr>\n",
       "  </thead>\n",
       "  <tbody>\n",
       "    <tr>\n",
       "      <th>11</th>\n",
       "      <td>66.0</td>\n",
       "      <td>mmk</td>\n",
       "    </tr>\n",
       "    <tr>\n",
       "      <th>0</th>\n",
       "      <td>70.0</td>\n",
       "      <td>aa</td>\n",
       "    </tr>\n",
       "    <tr>\n",
       "      <th>4</th>\n",
       "      <td>84.0</td>\n",
       "      <td>ee</td>\n",
       "    </tr>\n",
       "    <tr>\n",
       "      <th>12</th>\n",
       "      <td>84.0</td>\n",
       "      <td>ppl</td>\n",
       "    </tr>\n",
       "    <tr>\n",
       "      <th>7</th>\n",
       "      <td>87.0</td>\n",
       "      <td>hh</td>\n",
       "    </tr>\n",
       "  </tbody>\n",
       "</table>\n",
       "</div>"
      ],
      "text/plain": [
       "    Marks Name \n",
       "11   66.0   mmk\n",
       "0    70.0    aa\n",
       "4    84.0    ee\n",
       "12   84.0   ppl\n",
       "7    87.0    hh"
      ]
     },
     "execution_count": 141,
     "metadata": {},
     "output_type": "execute_result"
    }
   ],
   "source": [
    "sort.iloc[:5,::-2]"
   ]
  },
  {
   "cell_type": "code",
   "execution_count": 142,
   "id": "86cf3ee4",
   "metadata": {},
   "outputs": [
    {
     "name": "stdout",
     "output_type": "stream",
     "text": [
      "    Rol Number Name  Gender  Marks  Rank\n",
      "11        2514   mmk      M   66.0   1.0\n",
      "0         1220    aa      M   70.0   2.0\n",
      "4         1225    ee      M   84.0   3.5\n",
      "12        2546   ppl      M   84.0   3.5\n",
      "7         1228    hh      M   87.0   5.0\n",
      "8         1229    ii      M   88.0   6.5\n",
      "9         1130    jb      M   88.0   6.5\n"
     ]
    }
   ],
   "source": [
    "sort[\"Rank\"] =sort[\"Marks\"].rank()\n",
    "print(sort)"
   ]
  },
  {
   "cell_type": "code",
   "execution_count": 152,
   "id": "ffab1216",
   "metadata": {},
   "outputs": [
    {
     "name": "stdout",
     "output_type": "stream",
     "text": [
      "Gender\n",
      "Female    85.5\n",
      "Male      81.0\n",
      "Name: Marks, dtype: float64\n"
     ]
    }
   ],
   "source": [
    "groupby = remove_blank.groupby([\"Gender\"])[\"Marks\"].mean()\n",
    "print(groupby)"
   ]
  },
  {
   "cell_type": "code",
   "execution_count": 153,
   "id": "2fcb9ffe",
   "metadata": {},
   "outputs": [
    {
     "name": "stdout",
     "output_type": "stream",
     "text": [
      "        Marks\n",
      "Gender       \n",
      "Female   85.5\n",
      "Male     81.0\n"
     ]
    }
   ],
   "source": [
    "pivot_table = pd.pivot_table(remove_blank,values='Marks', index=\"Gender\", fill_value=0)\n",
    "print(pivot_table)"
   ]
  },
  {
   "cell_type": "code",
   "execution_count": 2,
   "id": "c14c7902",
   "metadata": {},
   "outputs": [
    {
     "data": {
      "text/plain": [
       "'C:\\\\Users\\\\ms900\\\\OneDrive\\\\Desktop\\\\Sales_Data_practice.xlsx'"
      ]
     },
     "execution_count": 2,
     "metadata": {},
     "output_type": "execute_result"
    }
   ],
   "source": [
    "import pandas as pd\n",
    "\n",
    "# Creating the dataset\n",
    "data = {\n",
    "    \"OrderID\": [1001, 1002, 1003, 1004, 1005, 1006, 1007, 1008, 1009, 1010,\n",
    "                1011, 1012, 1013, 1014, 1015, 1016, 1017, 1018, 1019, 1020],\n",
    "    \"CustomerName\": [\"John Doe\", \"jane smith\", \"John Doe\", \"Alice Johnson\", \"Bob Brown\", \n",
    "                     \"Charlie Wilson\", \"David White\", \"Emily Green\", \"Frank Hall\", \"Grace Adams\",\n",
    "                     \"Helen Scott\", \"David White\", \"Igor Petrova\", \"Jake Thomas\", \"Kate Brown\",\n",
    "                     \"Liam Johnson\", \"Mary Adams\", \"Noah Carter\", \"Oliver Moore\", \"John Doe\"],\n",
    "    \"Product\": [\"Laptop\", \"Tablet\", \"Laptop\", \"Smartphone\", \"Headphones\", \n",
    "                \"Monitor\", \"Camera\", \"Keyboard\", \"Mouse\", \"Smartwatch\",\n",
    "                \"Laptop\", \"Camera\", \"Monitor\", \"Mouse\", \"Headphones\",\n",
    "                \"Tablet\", \"Smartwatch\", \"Headphones\", \"Keyboard\", \"Laptop\"],\n",
    "    \"Category\": [\"Electronics\", \"Electronics\", \"Electronics\", \"Electronics\", \"Accessories\",\n",
    "                 \"Electronics\", \"Electronics\", \"Accessories\", \"Accessories\", \"Electronics\",\n",
    "                 \"Electronics\", \"Electronics\", \"Electronics\", \"Accessories\", \"Accessories\",\n",
    "                 \"Electronics\", \"Electronics\", \"Accessories\", \"Accessories\", \"Electronics\"],\n",
    "    \"Quantity\": [1, 2, 1, 1, 3, 2, 1, 1, 2, 1, 1, 1, 1, 1, 3, 2, 1, 3, 1, 1],\n",
    "    \"Price\": [1000, 500, 1000, 800, 50, 300, 700, 40, 20, 250, 1000, 700, 300, 20, 50, 500, 250, 50, 40, 1000],\n",
    "    \"TotalAmount\": [1000, 1000, 1000, 800, 150, 600, 700, 40, 40, 500, 1000, 700, 600, 20, 150, 1000, 500, 150, 40, 1000],\n",
    "    \"OrderDate\": [\"2023-01-05\", \"2023-01-07\", \"2023-01-05\", \"2023-02-10\", \"2023-02-15\", \n",
    "                  \"2023-03-01\", None, \"2023-03-20\", \"2023-03-25\", \"2023-04-05\",\n",
    "                  \"2023-04-10\", \"2023-04-12\", \"2023-05-01\", \"2023-05-10\", \"2023-06-01\",\n",
    "                  \"2023-06-15\", \"2023-07-01\", \"2023-07-15\", \"2023-08-01\", \"2023-01-05\"],\n",
    "    \"City\": [\"New York\", \"Los Angeles\", \"New York\", \"London\", \"Sydney\", \n",
    "             \"New York\", \"Berlin\", \"Paris\", \"los angeles\", \"London\",\n",
    "             \"New York\", \"Berlin\", \"London\", \"Tokyo\", \"Sydney\",\n",
    "             \"Mumbai\", \"Singapore\", \"Sydney\", \"New York\", \"New York\"],\n",
    "    \"Country\": [\"USA\", \"USA\", \"USA\", \"UK\", \"Australia\", \n",
    "                \"USA\", \"Germany\", \"France\", \"USA\", \"UK\",\n",
    "                \"USA\", \"Germany\", \"UK\", \"Japan\", \"Australia\",\n",
    "                \"India\", \"Singapore\", \"Australia\", \"USA\", \"USA\"],\n",
    "    \"PaymentMode\": [\"Credit Card\", \"Debit Card\", \"Credit Card\", \"PayPal\", \"Cash\",\n",
    "                    \"Credit Card\", \"Credit Card\", \"Cash\", \"Debit Card\", \"PayPal\",\n",
    "                    \"Credit Card\", \"Wire Transfer\", \"PayPal\", \"Mobile Payment\", \"Cash\",\n",
    "                    \"Credit Card\", \"Debit Card\", \"Mobile Payment\", \"Cash\", \"Credit Card\"]\n",
    "}\n",
    "\n",
    "# Creating a DataFrame\n",
    "df = pd.DataFrame(data)\n",
    "\n",
    "# Saving as an Excel file\n",
    "file_path = r\"C:\\Users\\ms900\\OneDrive\\Desktop\\Sales_Data_practice.xlsx\"\n",
    "df.to_excel(file_path, index=False)\n",
    "\n",
    "file_path\n"
   ]
  },
  {
   "cell_type": "code",
   "execution_count": null,
   "id": "ab978dd7",
   "metadata": {},
   "outputs": [],
   "source": []
  }
 ],
 "metadata": {
  "kernelspec": {
   "display_name": "Python 3 (ipykernel)",
   "language": "python",
   "name": "python3"
  },
  "language_info": {
   "codemirror_mode": {
    "name": "ipython",
    "version": 3
   },
   "file_extension": ".py",
   "mimetype": "text/x-python",
   "name": "python",
   "nbconvert_exporter": "python",
   "pygments_lexer": "ipython3",
   "version": "3.9.7"
  }
 },
 "nbformat": 4,
 "nbformat_minor": 5
}
